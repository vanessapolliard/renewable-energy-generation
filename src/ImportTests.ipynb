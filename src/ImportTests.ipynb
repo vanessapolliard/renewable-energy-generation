{
 "cells": [
  {
   "cell_type": "code",
   "execution_count": 8,
   "metadata": {},
   "outputs": [],
   "source": [
    "import requests\n",
    "import os, sys\n",
    "import time\n",
    "from bson.json_util import loads\n",
    "import psycopg2\n",
    "import getpass\n",
    "import json"
   ]
  },
  {
   "cell_type": "code",
   "execution_count": 2,
   "metadata": {},
   "outputs": [
    {
     "name": "stdout",
     "output_type": "stream",
     "text": [
      "········\n",
      "connected\n"
     ]
    }
   ],
   "source": [
    "upass = getpass.getpass()\n",
    "conn = psycopg2.connect(database=\"renewable_energy_generation\", user=\"admin\", password=upass, host=\"localhost\", port=\"5432\")\n",
    "print(\"connected\")"
   ]
  },
  {
   "cell_type": "code",
   "execution_count": 11,
   "metadata": {},
   "outputs": [
    {
     "ename": "JSONDecodeError",
     "evalue": "Extra data: line 2 column 1 (char 5674)",
     "output_type": "error",
     "traceback": [
      "\u001b[0;31m---------------------------------------------------------------------------\u001b[0m",
      "\u001b[0;31mJSONDecodeError\u001b[0m                           Traceback (most recent call last)",
      "\u001b[0;32m<ipython-input-11-a2969f6d22c7>\u001b[0m in \u001b[0;36m<module>\u001b[0;34m\u001b[0m\n\u001b[1;32m      1\u001b[0m \u001b[0;32mwith\u001b[0m \u001b[0mopen\u001b[0m\u001b[0;34m(\u001b[0m\u001b[0;34m'../data/INTL.txt'\u001b[0m\u001b[0;34m)\u001b[0m \u001b[0;32mas\u001b[0m \u001b[0mjsonfile\u001b[0m\u001b[0;34m:\u001b[0m\u001b[0;34m\u001b[0m\u001b[0;34m\u001b[0m\u001b[0m\n\u001b[0;32m----> 2\u001b[0;31m     \u001b[0mdata\u001b[0m \u001b[0;34m=\u001b[0m \u001b[0mjson\u001b[0m\u001b[0;34m.\u001b[0m\u001b[0mload\u001b[0m\u001b[0;34m(\u001b[0m\u001b[0mjsonfile\u001b[0m\u001b[0;34m)\u001b[0m\u001b[0;34m\u001b[0m\u001b[0;34m\u001b[0m\u001b[0m\n\u001b[0m",
      "\u001b[0;32m//anaconda3/lib/python3.7/json/__init__.py\u001b[0m in \u001b[0;36mload\u001b[0;34m(fp, cls, object_hook, parse_float, parse_int, parse_constant, object_pairs_hook, **kw)\u001b[0m\n\u001b[1;32m    294\u001b[0m         \u001b[0mcls\u001b[0m\u001b[0;34m=\u001b[0m\u001b[0mcls\u001b[0m\u001b[0;34m,\u001b[0m \u001b[0mobject_hook\u001b[0m\u001b[0;34m=\u001b[0m\u001b[0mobject_hook\u001b[0m\u001b[0;34m,\u001b[0m\u001b[0;34m\u001b[0m\u001b[0;34m\u001b[0m\u001b[0m\n\u001b[1;32m    295\u001b[0m         \u001b[0mparse_float\u001b[0m\u001b[0;34m=\u001b[0m\u001b[0mparse_float\u001b[0m\u001b[0;34m,\u001b[0m \u001b[0mparse_int\u001b[0m\u001b[0;34m=\u001b[0m\u001b[0mparse_int\u001b[0m\u001b[0;34m,\u001b[0m\u001b[0;34m\u001b[0m\u001b[0;34m\u001b[0m\u001b[0m\n\u001b[0;32m--> 296\u001b[0;31m         parse_constant=parse_constant, object_pairs_hook=object_pairs_hook, **kw)\n\u001b[0m\u001b[1;32m    297\u001b[0m \u001b[0;34m\u001b[0m\u001b[0m\n\u001b[1;32m    298\u001b[0m \u001b[0;34m\u001b[0m\u001b[0m\n",
      "\u001b[0;32m//anaconda3/lib/python3.7/json/__init__.py\u001b[0m in \u001b[0;36mloads\u001b[0;34m(s, encoding, cls, object_hook, parse_float, parse_int, parse_constant, object_pairs_hook, **kw)\u001b[0m\n\u001b[1;32m    346\u001b[0m             \u001b[0mparse_int\u001b[0m \u001b[0;32mis\u001b[0m \u001b[0;32mNone\u001b[0m \u001b[0;32mand\u001b[0m \u001b[0mparse_float\u001b[0m \u001b[0;32mis\u001b[0m \u001b[0;32mNone\u001b[0m \u001b[0;32mand\u001b[0m\u001b[0;34m\u001b[0m\u001b[0;34m\u001b[0m\u001b[0m\n\u001b[1;32m    347\u001b[0m             parse_constant is None and object_pairs_hook is None and not kw):\n\u001b[0;32m--> 348\u001b[0;31m         \u001b[0;32mreturn\u001b[0m \u001b[0m_default_decoder\u001b[0m\u001b[0;34m.\u001b[0m\u001b[0mdecode\u001b[0m\u001b[0;34m(\u001b[0m\u001b[0ms\u001b[0m\u001b[0;34m)\u001b[0m\u001b[0;34m\u001b[0m\u001b[0;34m\u001b[0m\u001b[0m\n\u001b[0m\u001b[1;32m    349\u001b[0m     \u001b[0;32mif\u001b[0m \u001b[0mcls\u001b[0m \u001b[0;32mis\u001b[0m \u001b[0;32mNone\u001b[0m\u001b[0;34m:\u001b[0m\u001b[0;34m\u001b[0m\u001b[0;34m\u001b[0m\u001b[0m\n\u001b[1;32m    350\u001b[0m         \u001b[0mcls\u001b[0m \u001b[0;34m=\u001b[0m \u001b[0mJSONDecoder\u001b[0m\u001b[0;34m\u001b[0m\u001b[0;34m\u001b[0m\u001b[0m\n",
      "\u001b[0;32m//anaconda3/lib/python3.7/json/decoder.py\u001b[0m in \u001b[0;36mdecode\u001b[0;34m(self, s, _w)\u001b[0m\n\u001b[1;32m    338\u001b[0m         \u001b[0mend\u001b[0m \u001b[0;34m=\u001b[0m \u001b[0m_w\u001b[0m\u001b[0;34m(\u001b[0m\u001b[0ms\u001b[0m\u001b[0;34m,\u001b[0m \u001b[0mend\u001b[0m\u001b[0;34m)\u001b[0m\u001b[0;34m.\u001b[0m\u001b[0mend\u001b[0m\u001b[0;34m(\u001b[0m\u001b[0;34m)\u001b[0m\u001b[0;34m\u001b[0m\u001b[0;34m\u001b[0m\u001b[0m\n\u001b[1;32m    339\u001b[0m         \u001b[0;32mif\u001b[0m \u001b[0mend\u001b[0m \u001b[0;34m!=\u001b[0m \u001b[0mlen\u001b[0m\u001b[0;34m(\u001b[0m\u001b[0ms\u001b[0m\u001b[0;34m)\u001b[0m\u001b[0;34m:\u001b[0m\u001b[0;34m\u001b[0m\u001b[0;34m\u001b[0m\u001b[0m\n\u001b[0;32m--> 340\u001b[0;31m             \u001b[0;32mraise\u001b[0m \u001b[0mJSONDecodeError\u001b[0m\u001b[0;34m(\u001b[0m\u001b[0;34m\"Extra data\"\u001b[0m\u001b[0;34m,\u001b[0m \u001b[0ms\u001b[0m\u001b[0;34m,\u001b[0m \u001b[0mend\u001b[0m\u001b[0;34m)\u001b[0m\u001b[0;34m\u001b[0m\u001b[0;34m\u001b[0m\u001b[0m\n\u001b[0m\u001b[1;32m    341\u001b[0m         \u001b[0;32mreturn\u001b[0m \u001b[0mobj\u001b[0m\u001b[0;34m\u001b[0m\u001b[0;34m\u001b[0m\u001b[0m\n\u001b[1;32m    342\u001b[0m \u001b[0;34m\u001b[0m\u001b[0m\n",
      "\u001b[0;31mJSONDecodeError\u001b[0m: Extra data: line 2 column 1 (char 5674)"
     ]
    }
   ],
   "source": [
    "with open('../data/INTL.txt') as jsonfile:\n",
    "    data = json.load(jsonfile)"
   ]
  },
  {
   "cell_type": "markdown",
   "metadata": {},
   "source": [
    "## Importing INTL.txt in MongoDB"
   ]
  },
  {
   "cell_type": "code",
   "execution_count": 13,
   "metadata": {},
   "outputs": [],
   "source": [
    "from pymongo import MongoClient"
   ]
  },
  {
   "cell_type": "code",
   "execution_count": null,
   "metadata": {},
   "outputs": [],
   "source": [
    "#need to put this in a pymongo script to export the child series IDs\n",
    "use renewable_energy\n",
    "db.bulk_import.find({'category_id': '2134668'},{\"childseries\": true}).pretty()"
   ]
  },
  {
   "cell_type": "code",
   "execution_count": 14,
   "metadata": {},
   "outputs": [],
   "source": [
    "#use below to pull from mongo for API query items\n",
    "client = MongoClient('localhost',27017)\n",
    "db = client['renewable_energy']\n",
    "table = db['bulk_import']"
   ]
  },
  {
   "cell_type": "code",
   "execution_count": 96,
   "metadata": {},
   "outputs": [],
   "source": [
    "generation_category = db.bulk_import.find({'category_id': '2134668'},{'childseries': 1,'_id': 0})"
   ]
  },
  {
   "cell_type": "code",
   "execution_count": 98,
   "metadata": {},
   "outputs": [],
   "source": [
    "list_temp = []\n",
    "for item in generation_category:\n",
    "    list_temp.append(item)\n",
    "    "
   ]
  },
  {
   "cell_type": "code",
   "execution_count": 99,
   "metadata": {},
   "outputs": [
    {
     "name": "stdout",
     "output_type": "stream",
     "text": [
      "[{'childseries': ['INTL.29-12-ABW-BKWH.A', 'INTL.29-12-ABW-QBTU.A', 'INTL.29-12-AFG-BKWH.A', 'INTL.29-12-AFG-QBTU.A', 'INTL.29-12-AFRC-BKWH.A', 'INTL.29-12-AFRC-QBTU.A', 'INTL.29-12-AGO-BKWH.A', 'INTL.29-12-AGO-QBTU.A', 'INTL.29-12-ALB-BKWH.A', 'INTL.29-12-ALB-QBTU.A', 'INTL.29-12-ARE-BKWH.A', 'INTL.29-12-ARE-QBTU.A', 'INTL.29-12-ARG-BKWH.A', 'INTL.29-12-ARG-QBTU.A', 'INTL.29-12-ARM-BKWH.A', 'INTL.29-12-ARM-QBTU.A', 'INTL.29-12-ASM-BKWH.A', 'INTL.29-12-ASM-QBTU.A', 'INTL.29-12-ASOC-BKWH.A', 'INTL.29-12-ASOC-QBTU.A', 'INTL.29-12-ATA-BKWH.A', 'INTL.29-12-ATA-QBTU.A', 'INTL.29-12-ATG-BKWH.A', 'INTL.29-12-ATG-QBTU.A', 'INTL.29-12-AUS-BKWH.A', 'INTL.29-12-AUS-QBTU.A', 'INTL.29-12-AUT-BKWH.A', 'INTL.29-12-AUT-QBTU.A', 'INTL.29-12-AZE-BKWH.A', 'INTL.29-12-AZE-QBTU.A', 'INTL.29-12-BDI-BKWH.A', 'INTL.29-12-BDI-QBTU.A', 'INTL.29-12-BEL-BKWH.A', 'INTL.29-12-BEL-QBTU.A', 'INTL.29-12-BEN-BKWH.A', 'INTL.29-12-BEN-QBTU.A', 'INTL.29-12-BFA-BKWH.A', 'INTL.29-12-BFA-QBTU.A', 'INTL.29-12-BGD-BKWH.A', 'INTL.29-12-BGD-QBTU.A', 'INTL.29-12-BGR-BKWH.A', 'INTL.29-12-BGR-QBTU.A', 'INTL.29-12-BHR-BKWH.A', 'INTL.29-12-BHR-QBTU.A', 'INTL.29-12-BHS-BKWH.A', 'INTL.29-12-BHS-QBTU.A', 'INTL.29-12-BIH-BKWH.A', 'INTL.29-12-BIH-QBTU.A', 'INTL.29-12-BLR-BKWH.A', 'INTL.29-12-BLR-QBTU.A', 'INTL.29-12-BLZ-BKWH.A', 'INTL.29-12-BLZ-QBTU.A', 'INTL.29-12-BMU-BKWH.A', 'INTL.29-12-BMU-QBTU.A', 'INTL.29-12-BOL-BKWH.A', 'INTL.29-12-BOL-QBTU.A', 'INTL.29-12-BRA-BKWH.A', 'INTL.29-12-BRA-QBTU.A', 'INTL.29-12-BRB-BKWH.A', 'INTL.29-12-BRB-QBTU.A', 'INTL.29-12-BRN-BKWH.A', 'INTL.29-12-BRN-QBTU.A', 'INTL.29-12-BTN-BKWH.A', 'INTL.29-12-BTN-QBTU.A', 'INTL.29-12-BWA-BKWH.A', 'INTL.29-12-BWA-QBTU.A', 'INTL.29-12-CAF-BKWH.A', 'INTL.29-12-CAF-QBTU.A', 'INTL.29-12-CAN-BKWH.A', 'INTL.29-12-CAN-QBTU.A', 'INTL.29-12-CHE-BKWH.A', 'INTL.29-12-CHE-QBTU.A', 'INTL.29-12-CHL-BKWH.A', 'INTL.29-12-CHL-QBTU.A', 'INTL.29-12-CHN-BKWH.A', 'INTL.29-12-CHN-QBTU.A', 'INTL.29-12-CIV-BKWH.A', 'INTL.29-12-CIV-QBTU.A', 'INTL.29-12-CMR-BKWH.A', 'INTL.29-12-CMR-QBTU.A', 'INTL.29-12-COD-BKWH.A', 'INTL.29-12-COD-QBTU.A', 'INTL.29-12-COG-BKWH.A', 'INTL.29-12-COG-QBTU.A', 'INTL.29-12-COK-BKWH.A', 'INTL.29-12-COK-QBTU.A', 'INTL.29-12-COL-BKWH.A', 'INTL.29-12-COL-QBTU.A', 'INTL.29-12-COM-BKWH.A', 'INTL.29-12-COM-QBTU.A', 'INTL.29-12-CPV-BKWH.A', 'INTL.29-12-CPV-QBTU.A', 'INTL.29-12-CRI-BKWH.A', 'INTL.29-12-CRI-QBTU.A', 'INTL.29-12-CSAM-BKWH.A', 'INTL.29-12-CSAM-QBTU.A', 'INTL.29-12-CSK-BKWH.A', 'INTL.29-12-CSK-QBTU.A', 'INTL.29-12-CUB-BKWH.A', 'INTL.29-12-CUB-QBTU.A', 'INTL.29-12-CYM-BKWH.A', 'INTL.29-12-CYM-QBTU.A', 'INTL.29-12-CYP-BKWH.A', 'INTL.29-12-CYP-QBTU.A', 'INTL.29-12-CZE-BKWH.A', 'INTL.29-12-CZE-QBTU.A', 'INTL.29-12-DDR-BKWH.A', 'INTL.29-12-DDR-QBTU.A', 'INTL.29-12-DEU-BKWH.A', 'INTL.29-12-DEU-QBTU.A', 'INTL.29-12-DEUW-BKWH.A', 'INTL.29-12-DEUW-QBTU.A', 'INTL.29-12-DJI-BKWH.A', 'INTL.29-12-DJI-QBTU.A', 'INTL.29-12-DMA-BKWH.A', 'INTL.29-12-DMA-QBTU.A', 'INTL.29-12-DNK-BKWH.A', 'INTL.29-12-DNK-QBTU.A', 'INTL.29-12-DOM-BKWH.A', 'INTL.29-12-DOM-QBTU.A', 'INTL.29-12-DZA-BKWH.A', 'INTL.29-12-DZA-QBTU.A', 'INTL.29-12-ECU-BKWH.A', 'INTL.29-12-ECU-QBTU.A', 'INTL.29-12-EGY-BKWH.A', 'INTL.29-12-EGY-QBTU.A', 'INTL.29-12-ERI-BKWH.A', 'INTL.29-12-ERI-QBTU.A', 'INTL.29-12-ESH-BKWH.A', 'INTL.29-12-ESH-QBTU.A', 'INTL.29-12-ESP-BKWH.A', 'INTL.29-12-ESP-QBTU.A', 'INTL.29-12-EST-BKWH.A', 'INTL.29-12-EST-QBTU.A', 'INTL.29-12-ETH-BKWH.A', 'INTL.29-12-ETH-QBTU.A', 'INTL.29-12-EU27-BKWH.A', 'INTL.29-12-EU27-QBTU.A', 'INTL.29-12-EURA-BKWH.A', 'INTL.29-12-EURA-QBTU.A', 'INTL.29-12-EURO-BKWH.A', 'INTL.29-12-EURO-QBTU.A', 'INTL.29-12-FIN-BKWH.A', 'INTL.29-12-FIN-QBTU.A', 'INTL.29-12-FJI-BKWH.A', 'INTL.29-12-FJI-QBTU.A', 'INTL.29-12-FLK-BKWH.A', 'INTL.29-12-FLK-QBTU.A', 'INTL.29-12-FRA-BKWH.A', 'INTL.29-12-FRA-QBTU.A', 'INTL.29-12-FRO-BKWH.A', 'INTL.29-12-FRO-QBTU.A', 'INTL.29-12-GAB-BKWH.A', 'INTL.29-12-GAB-QBTU.A', 'INTL.29-12-GBR-BKWH.A', 'INTL.29-12-GBR-QBTU.A', 'INTL.29-12-GEO-BKWH.A', 'INTL.29-12-GEO-QBTU.A', 'INTL.29-12-GHA-BKWH.A', 'INTL.29-12-GHA-QBTU.A', 'INTL.29-12-GIB-BKWH.A', 'INTL.29-12-GIB-QBTU.A', 'INTL.29-12-GIN-BKWH.A', 'INTL.29-12-GIN-QBTU.A', 'INTL.29-12-GLP-BKWH.A', 'INTL.29-12-GLP-QBTU.A', 'INTL.29-12-GMB-BKWH.A', 'INTL.29-12-GMB-QBTU.A', 'INTL.29-12-GNB-BKWH.A', 'INTL.29-12-GNB-QBTU.A', 'INTL.29-12-GNQ-BKWH.A', 'INTL.29-12-GNQ-QBTU.A', 'INTL.29-12-GRC-BKWH.A', 'INTL.29-12-GRC-QBTU.A', 'INTL.29-12-GRD-BKWH.A', 'INTL.29-12-GRD-QBTU.A', 'INTL.29-12-GRL-BKWH.A', 'INTL.29-12-GRL-QBTU.A', 'INTL.29-12-GTM-BKWH.A', 'INTL.29-12-GTM-QBTU.A', 'INTL.29-12-GUF-BKWH.A', 'INTL.29-12-GUF-QBTU.A', 'INTL.29-12-GUM-BKWH.A', 'INTL.29-12-GUM-QBTU.A', 'INTL.29-12-GUY-BKWH.A', 'INTL.29-12-GUY-QBTU.A', 'INTL.29-12-HITZ-BKWH.A', 'INTL.29-12-HITZ-QBTU.A', 'INTL.29-12-HKG-BKWH.A', 'INTL.29-12-HKG-QBTU.A', 'INTL.29-12-HND-BKWH.A', 'INTL.29-12-HND-QBTU.A', 'INTL.29-12-HRV-BKWH.A', 'INTL.29-12-HRV-QBTU.A', 'INTL.29-12-HTI-BKWH.A', 'INTL.29-12-HTI-QBTU.A', 'INTL.29-12-HUN-BKWH.A', 'INTL.29-12-HUN-QBTU.A', 'INTL.29-12-IDN-BKWH.A', 'INTL.29-12-IDN-QBTU.A', 'INTL.29-12-IEAA-BKWH.A', 'INTL.29-12-IEAA-QBTU.A', 'INTL.29-12-IND-BKWH.A', 'INTL.29-12-IND-QBTU.A', 'INTL.29-12-IRL-BKWH.A', 'INTL.29-12-IRL-QBTU.A', 'INTL.29-12-IRN-BKWH.A', 'INTL.29-12-IRN-QBTU.A', 'INTL.29-12-IRQ-BKWH.A', 'INTL.29-12-IRQ-QBTU.A', 'INTL.29-12-ISL-BKWH.A', 'INTL.29-12-ISL-QBTU.A', 'INTL.29-12-ISR-BKWH.A', 'INTL.29-12-ISR-QBTU.A', 'INTL.29-12-ITA-BKWH.A', 'INTL.29-12-ITA-QBTU.A', 'INTL.29-12-JAM-BKWH.A', 'INTL.29-12-JAM-QBTU.A', 'INTL.29-12-JOR-BKWH.A', 'INTL.29-12-JOR-QBTU.A', 'INTL.29-12-JPN-BKWH.A', 'INTL.29-12-JPN-QBTU.A', 'INTL.29-12-KAZ-BKWH.A', 'INTL.29-12-KAZ-QBTU.A', 'INTL.29-12-KEN-BKWH.A', 'INTL.29-12-KEN-QBTU.A', 'INTL.29-12-KGZ-BKWH.A', 'INTL.29-12-KGZ-QBTU.A', 'INTL.29-12-KHM-BKWH.A', 'INTL.29-12-KHM-QBTU.A', 'INTL.29-12-KIR-BKWH.A', 'INTL.29-12-KIR-QBTU.A', 'INTL.29-12-KNA-BKWH.A', 'INTL.29-12-KNA-QBTU.A', 'INTL.29-12-KOR-BKWH.A', 'INTL.29-12-KOR-QBTU.A', 'INTL.29-12-KWT-BKWH.A', 'INTL.29-12-KWT-QBTU.A', 'INTL.29-12-LAO-BKWH.A', 'INTL.29-12-LAO-QBTU.A', 'INTL.29-12-LBN-BKWH.A', 'INTL.29-12-LBN-QBTU.A', 'INTL.29-12-LBR-BKWH.A', 'INTL.29-12-LBR-QBTU.A', 'INTL.29-12-LBY-BKWH.A', 'INTL.29-12-LBY-QBTU.A', 'INTL.29-12-LCA-BKWH.A', 'INTL.29-12-LCA-QBTU.A', 'INTL.29-12-LKA-BKWH.A', 'INTL.29-12-LKA-QBTU.A', 'INTL.29-12-LSO-BKWH.A', 'INTL.29-12-LSO-QBTU.A', 'INTL.29-12-LTU-BKWH.A', 'INTL.29-12-LTU-QBTU.A', 'INTL.29-12-LUX-BKWH.A', 'INTL.29-12-LUX-QBTU.A', 'INTL.29-12-LVA-BKWH.A', 'INTL.29-12-LVA-QBTU.A', 'INTL.29-12-MAC-BKWH.A', 'INTL.29-12-MAC-QBTU.A', 'INTL.29-12-MAR-BKWH.A', 'INTL.29-12-MAR-QBTU.A', 'INTL.29-12-MDA-BKWH.A', 'INTL.29-12-MDA-QBTU.A', 'INTL.29-12-MDG-BKWH.A', 'INTL.29-12-MDG-QBTU.A', 'INTL.29-12-MDV-BKWH.A', 'INTL.29-12-MDV-QBTU.A', 'INTL.29-12-MEX-BKWH.A', 'INTL.29-12-MEX-QBTU.A', 'INTL.29-12-MIDE-BKWH.A', 'INTL.29-12-MIDE-QBTU.A', 'INTL.29-12-MKD-BKWH.A', 'INTL.29-12-MKD-QBTU.A', 'INTL.29-12-MLI-BKWH.A', 'INTL.29-12-MLI-QBTU.A', 'INTL.29-12-MLT-BKWH.A', 'INTL.29-12-MLT-QBTU.A', 'INTL.29-12-MMR-BKWH.A', 'INTL.29-12-MMR-QBTU.A', 'INTL.29-12-MNE-BKWH.A', 'INTL.29-12-MNE-QBTU.A', 'INTL.29-12-MNG-BKWH.A', 'INTL.29-12-MNG-QBTU.A', 'INTL.29-12-MOZ-BKWH.A', 'INTL.29-12-MOZ-QBTU.A', 'INTL.29-12-MRT-BKWH.A', 'INTL.29-12-MRT-QBTU.A', 'INTL.29-12-MSR-BKWH.A', 'INTL.29-12-MSR-QBTU.A', 'INTL.29-12-MTQ-BKWH.A', 'INTL.29-12-MTQ-QBTU.A', 'INTL.29-12-MUS-BKWH.A', 'INTL.29-12-MUS-QBTU.A', 'INTL.29-12-MWI-BKWH.A', 'INTL.29-12-MWI-QBTU.A', 'INTL.29-12-MYS-BKWH.A', 'INTL.29-12-MYS-QBTU.A', 'INTL.29-12-NAM-BKWH.A', 'INTL.29-12-NAM-QBTU.A', 'INTL.29-12-NCL-BKWH.A', 'INTL.29-12-NCL-QBTU.A', 'INTL.29-12-NER-BKWH.A', 'INTL.29-12-NER-QBTU.A', 'INTL.29-12-NGA-BKWH.A', 'INTL.29-12-NGA-QBTU.A', 'INTL.29-12-NIC-BKWH.A', 'INTL.29-12-NIC-QBTU.A', 'INTL.29-12-NIU-BKWH.A', 'INTL.29-12-NIU-QBTU.A', 'INTL.29-12-NLD-BKWH.A', 'INTL.29-12-NLD-QBTU.A', 'INTL.29-12-NLDA-BKWH.A', 'INTL.29-12-NLDA-QBTU.A', 'INTL.29-12-NOAM-BKWH.A', 'INTL.29-12-NOAM-QBTU.A', 'INTL.29-12-NOEC-BKWH.A', 'INTL.29-12-NOEC-QBTU.A', 'INTL.29-12-NOR-BKWH.A', 'INTL.29-12-NOR-QBTU.A', 'INTL.29-12-NPL-BKWH.A', 'INTL.29-12-NPL-QBTU.A', 'INTL.29-12-NRU-BKWH.A', 'INTL.29-12-NRU-QBTU.A', 'INTL.29-12-NZL-BKWH.A', 'INTL.29-12-NZL-QBTU.A', 'INTL.29-12-OEAO-BKWH.A', 'INTL.29-12-OEAO-QBTU.A', 'INTL.29-12-OECD-BKWH.A', 'INTL.29-12-OECD-QBTU.A', 'INTL.29-12-OEEU-BKWH.A', 'INTL.29-12-OEEU-QBTU.A', 'INTL.29-12-OENA-BKWH.A', 'INTL.29-12-OENA-QBTU.A', 'INTL.29-12-OMN-BKWH.A', 'INTL.29-12-OMN-QBTU.A', 'INTL.29-12-OPAF-BKWH.A', 'INTL.29-12-OPAF-QBTU.A', 'INTL.29-12-OPEC-BKWH.A', 'INTL.29-12-OPEC-QBTU.A', 'INTL.29-12-OPSA-BKWH.A', 'INTL.29-12-OPSA-QBTU.A', 'INTL.29-12-PAK-BKWH.A', 'INTL.29-12-PAK-QBTU.A', 'INTL.29-12-PAN-BKWH.A', 'INTL.29-12-PAN-QBTU.A', 'INTL.29-12-PER-BKWH.A', 'INTL.29-12-PER-QBTU.A', 'INTL.29-12-PERG-BKWH.A', 'INTL.29-12-PERG-QBTU.A', 'INTL.29-12-PHL-BKWH.A', 'INTL.29-12-PHL-QBTU.A', 'INTL.29-12-PNG-BKWH.A', 'INTL.29-12-PNG-QBTU.A', 'INTL.29-12-POL-BKWH.A', 'INTL.29-12-POL-QBTU.A', 'INTL.29-12-PRI-BKWH.A', 'INTL.29-12-PRI-QBTU.A', 'INTL.29-12-PRK-BKWH.A', 'INTL.29-12-PRK-QBTU.A', 'INTL.29-12-PRT-BKWH.A', 'INTL.29-12-PRT-QBTU.A', 'INTL.29-12-PRY-BKWH.A', 'INTL.29-12-PRY-QBTU.A', 'INTL.29-12-PSE-BKWH.A', 'INTL.29-12-PSE-QBTU.A', 'INTL.29-12-PYF-BKWH.A', 'INTL.29-12-PYF-QBTU.A', 'INTL.29-12-QAT-BKWH.A', 'INTL.29-12-QAT-QBTU.A', 'INTL.29-12-REU-BKWH.A', 'INTL.29-12-REU-QBTU.A', 'INTL.29-12-ROU-BKWH.A', 'INTL.29-12-ROU-QBTU.A', 'INTL.29-12-RUS-BKWH.A', 'INTL.29-12-RUS-QBTU.A', 'INTL.29-12-RWA-BKWH.A', 'INTL.29-12-RWA-QBTU.A', 'INTL.29-12-SAU-BKWH.A', 'INTL.29-12-SAU-QBTU.A', 'INTL.29-12-SCG-BKWH.A', 'INTL.29-12-SCG-QBTU.A', 'INTL.29-12-SDN-BKWH.A', 'INTL.29-12-SDN-QBTU.A', 'INTL.29-12-SEN-BKWH.A', 'INTL.29-12-SEN-QBTU.A', 'INTL.29-12-SGP-BKWH.A', 'INTL.29-12-SGP-QBTU.A', 'INTL.29-12-SHN-BKWH.A', 'INTL.29-12-SHN-QBTU.A', 'INTL.29-12-SLB-BKWH.A', 'INTL.29-12-SLB-QBTU.A', 'INTL.29-12-SLE-BKWH.A', 'INTL.29-12-SLE-QBTU.A', 'INTL.29-12-SLV-BKWH.A', 'INTL.29-12-SLV-QBTU.A', 'INTL.29-12-SOM-BKWH.A', 'INTL.29-12-SOM-QBTU.A', 'INTL.29-12-SPM-BKWH.A', 'INTL.29-12-SPM-QBTU.A', 'INTL.29-12-SRB-BKWH.A', 'INTL.29-12-SRB-QBTU.A', 'INTL.29-12-SSD-BKWH.A', 'INTL.29-12-SSD-QBTU.A', 'INTL.29-12-STP-BKWH.A', 'INTL.29-12-STP-QBTU.A', 'INTL.29-12-SUN-BKWH.A', 'INTL.29-12-SUN-QBTU.A', 'INTL.29-12-SUR-BKWH.A', 'INTL.29-12-SUR-QBTU.A', 'INTL.29-12-SVK-BKWH.A', 'INTL.29-12-SVK-QBTU.A', 'INTL.29-12-SVN-BKWH.A', 'INTL.29-12-SVN-QBTU.A', 'INTL.29-12-SWE-BKWH.A', 'INTL.29-12-SWE-QBTU.A', 'INTL.29-12-SWZ-BKWH.A', 'INTL.29-12-SWZ-QBTU.A', 'INTL.29-12-SYC-BKWH.A', 'INTL.29-12-SYC-QBTU.A', 'INTL.29-12-SYR-BKWH.A', 'INTL.29-12-SYR-QBTU.A', 'INTL.29-12-TCA-BKWH.A', 'INTL.29-12-TCA-QBTU.A', 'INTL.29-12-TCD-BKWH.A', 'INTL.29-12-TCD-QBTU.A', 'INTL.29-12-TGO-BKWH.A', 'INTL.29-12-TGO-QBTU.A', 'INTL.29-12-THA-BKWH.A', 'INTL.29-12-THA-QBTU.A', 'INTL.29-12-TJK-BKWH.A', 'INTL.29-12-TJK-QBTU.A', 'INTL.29-12-TKM-BKWH.A', 'INTL.29-12-TKM-QBTU.A', 'INTL.29-12-TLS-BKWH.A', 'INTL.29-12-TLS-QBTU.A', 'INTL.29-12-TON-BKWH.A', 'INTL.29-12-TON-QBTU.A', 'INTL.29-12-TTO-BKWH.A', 'INTL.29-12-TTO-QBTU.A', 'INTL.29-12-TUN-BKWH.A', 'INTL.29-12-TUN-QBTU.A', 'INTL.29-12-TUR-BKWH.A', 'INTL.29-12-TUR-QBTU.A', 'INTL.29-12-TWN-BKWH.A', 'INTL.29-12-TWN-QBTU.A', 'INTL.29-12-TZA-BKWH.A', 'INTL.29-12-TZA-QBTU.A', 'INTL.29-12-UGA-BKWH.A', 'INTL.29-12-UGA-QBTU.A', 'INTL.29-12-UKR-BKWH.A', 'INTL.29-12-UKR-QBTU.A', 'INTL.29-12-UNK-BKWH.A', 'INTL.29-12-UNK-QBTU.A', 'INTL.29-12-URY-BKWH.A', 'INTL.29-12-URY-QBTU.A', 'INTL.29-12-USA-BKWH.A', 'INTL.29-12-USA-QBTU.A', 'INTL.29-12-USIQ-BKWH.A', 'INTL.29-12-USIQ-QBTU.A', 'INTL.29-12-UZB-BKWH.A', 'INTL.29-12-UZB-QBTU.A', 'INTL.29-12-VCT-BKWH.A', 'INTL.29-12-VCT-QBTU.A', 'INTL.29-12-VEN-BKWH.A', 'INTL.29-12-VEN-QBTU.A', 'INTL.29-12-VGB-BKWH.A', 'INTL.29-12-VGB-QBTU.A', 'INTL.29-12-VIR-BKWH.A', 'INTL.29-12-VIR-QBTU.A', 'INTL.29-12-VNM-BKWH.A', 'INTL.29-12-VNM-QBTU.A', 'INTL.29-12-VUT-BKWH.A', 'INTL.29-12-VUT-QBTU.A', 'INTL.29-12-WAK-BKWH.A', 'INTL.29-12-WAK-QBTU.A', 'INTL.29-12-WORL-BKWH.A', 'INTL.29-12-WORL-QBTU.A', 'INTL.29-12-WP11-BKWH.A', 'INTL.29-12-WP11-QBTU.A', 'INTL.29-12-WP12-BKWH.A', 'INTL.29-12-WP12-QBTU.A', 'INTL.29-12-WP13-BKWH.A', 'INTL.29-12-WP13-QBTU.A', 'INTL.29-12-WP14-BKWH.A', 'INTL.29-12-WP14-QBTU.A', 'INTL.29-12-WP15-BKWH.A', 'INTL.29-12-WP15-QBTU.A', 'INTL.29-12-WP16-BKWH.A', 'INTL.29-12-WP16-QBTU.A', 'INTL.29-12-WP17-BKWH.A', 'INTL.29-12-WP17-QBTU.A', 'INTL.29-12-WP18-BKWH.A', 'INTL.29-12-WP18-QBTU.A', 'INTL.29-12-WP19-BKWH.A', 'INTL.29-12-WP19-QBTU.A', 'INTL.29-12-WP21-BKWH.A', 'INTL.29-12-WP21-QBTU.A', 'INTL.29-12-WP22-BKWH.A', 'INTL.29-12-WP22-QBTU.A', 'INTL.29-12-WP23-BKWH.A', 'INTL.29-12-WP23-QBTU.A', 'INTL.29-12-WP24-BKWH.A', 'INTL.29-12-WP24-QBTU.A', 'INTL.29-12-WP25-BKWH.A', 'INTL.29-12-WP25-QBTU.A', 'INTL.29-12-WP26-BKWH.A', 'INTL.29-12-WP26-QBTU.A', 'INTL.29-12-WP27-BKWH.A', 'INTL.29-12-WP27-QBTU.A', 'INTL.29-12-WSM-BKWH.A', 'INTL.29-12-WSM-QBTU.A', 'INTL.29-12-YEM-BKWH.A', 'INTL.29-12-YEM-QBTU.A', 'INTL.29-12-YUG-BKWH.A', 'INTL.29-12-YUG-QBTU.A', 'INTL.29-12-ZAF-BKWH.A', 'INTL.29-12-ZAF-QBTU.A', 'INTL.29-12-ZMB-BKWH.A', 'INTL.29-12-ZMB-QBTU.A', 'INTL.29-12-ZWE-BKWH.A', 'INTL.29-12-ZWE-QBTU.A']}]\n"
     ]
    }
   ],
   "source": [
    "print(list_temp)"
   ]
  },
  {
   "cell_type": "code",
   "execution_count": 118,
   "metadata": {},
   "outputs": [],
   "source": [
    "str_temp = str(list_temp).replace(\"{\",\"\").replace(\"}\",\"\").replace(\"'childseries': \",\"\").replace(\"'\",\"\").replace(\"[[\",\"[\").replace(\"]]\",\"]\")\n"
   ]
  },
  {
   "cell_type": "code",
   "execution_count": 119,
   "metadata": {},
   "outputs": [
    {
     "name": "stdout",
     "output_type": "stream",
     "text": [
      "[INTL.29-12-ABW-BKWH.A, INTL.29-12-ABW-QBTU.A, INTL.29-12-AFG-BKWH.A, INTL.29-12-AFG-QBTU.A, INTL.29-12-AFRC-BKWH.A, INTL.29-12-AFRC-QBTU.A, INTL.29-12-AGO-BKWH.A, INTL.29-12-AGO-QBTU.A, INTL.29-12-ALB-BKWH.A, INTL.29-12-ALB-QBTU.A, INTL.29-12-ARE-BKWH.A, INTL.29-12-ARE-QBTU.A, INTL.29-12-ARG-BKWH.A, INTL.29-12-ARG-QBTU.A, INTL.29-12-ARM-BKWH.A, INTL.29-12-ARM-QBTU.A, INTL.29-12-ASM-BKWH.A, INTL.29-12-ASM-QBTU.A, INTL.29-12-ASOC-BKWH.A, INTL.29-12-ASOC-QBTU.A, INTL.29-12-ATA-BKWH.A, INTL.29-12-ATA-QBTU.A, INTL.29-12-ATG-BKWH.A, INTL.29-12-ATG-QBTU.A, INTL.29-12-AUS-BKWH.A, INTL.29-12-AUS-QBTU.A, INTL.29-12-AUT-BKWH.A, INTL.29-12-AUT-QBTU.A, INTL.29-12-AZE-BKWH.A, INTL.29-12-AZE-QBTU.A, INTL.29-12-BDI-BKWH.A, INTL.29-12-BDI-QBTU.A, INTL.29-12-BEL-BKWH.A, INTL.29-12-BEL-QBTU.A, INTL.29-12-BEN-BKWH.A, INTL.29-12-BEN-QBTU.A, INTL.29-12-BFA-BKWH.A, INTL.29-12-BFA-QBTU.A, INTL.29-12-BGD-BKWH.A, INTL.29-12-BGD-QBTU.A, INTL.29-12-BGR-BKWH.A, INTL.29-12-BGR-QBTU.A, INTL.29-12-BHR-BKWH.A, INTL.29-12-BHR-QBTU.A, INTL.29-12-BHS-BKWH.A, INTL.29-12-BHS-QBTU.A, INTL.29-12-BIH-BKWH.A, INTL.29-12-BIH-QBTU.A, INTL.29-12-BLR-BKWH.A, INTL.29-12-BLR-QBTU.A, INTL.29-12-BLZ-BKWH.A, INTL.29-12-BLZ-QBTU.A, INTL.29-12-BMU-BKWH.A, INTL.29-12-BMU-QBTU.A, INTL.29-12-BOL-BKWH.A, INTL.29-12-BOL-QBTU.A, INTL.29-12-BRA-BKWH.A, INTL.29-12-BRA-QBTU.A, INTL.29-12-BRB-BKWH.A, INTL.29-12-BRB-QBTU.A, INTL.29-12-BRN-BKWH.A, INTL.29-12-BRN-QBTU.A, INTL.29-12-BTN-BKWH.A, INTL.29-12-BTN-QBTU.A, INTL.29-12-BWA-BKWH.A, INTL.29-12-BWA-QBTU.A, INTL.29-12-CAF-BKWH.A, INTL.29-12-CAF-QBTU.A, INTL.29-12-CAN-BKWH.A, INTL.29-12-CAN-QBTU.A, INTL.29-12-CHE-BKWH.A, INTL.29-12-CHE-QBTU.A, INTL.29-12-CHL-BKWH.A, INTL.29-12-CHL-QBTU.A, INTL.29-12-CHN-BKWH.A, INTL.29-12-CHN-QBTU.A, INTL.29-12-CIV-BKWH.A, INTL.29-12-CIV-QBTU.A, INTL.29-12-CMR-BKWH.A, INTL.29-12-CMR-QBTU.A, INTL.29-12-COD-BKWH.A, INTL.29-12-COD-QBTU.A, INTL.29-12-COG-BKWH.A, INTL.29-12-COG-QBTU.A, INTL.29-12-COK-BKWH.A, INTL.29-12-COK-QBTU.A, INTL.29-12-COL-BKWH.A, INTL.29-12-COL-QBTU.A, INTL.29-12-COM-BKWH.A, INTL.29-12-COM-QBTU.A, INTL.29-12-CPV-BKWH.A, INTL.29-12-CPV-QBTU.A, INTL.29-12-CRI-BKWH.A, INTL.29-12-CRI-QBTU.A, INTL.29-12-CSAM-BKWH.A, INTL.29-12-CSAM-QBTU.A, INTL.29-12-CSK-BKWH.A, INTL.29-12-CSK-QBTU.A, INTL.29-12-CUB-BKWH.A, INTL.29-12-CUB-QBTU.A, INTL.29-12-CYM-BKWH.A, INTL.29-12-CYM-QBTU.A, INTL.29-12-CYP-BKWH.A, INTL.29-12-CYP-QBTU.A, INTL.29-12-CZE-BKWH.A, INTL.29-12-CZE-QBTU.A, INTL.29-12-DDR-BKWH.A, INTL.29-12-DDR-QBTU.A, INTL.29-12-DEU-BKWH.A, INTL.29-12-DEU-QBTU.A, INTL.29-12-DEUW-BKWH.A, INTL.29-12-DEUW-QBTU.A, INTL.29-12-DJI-BKWH.A, INTL.29-12-DJI-QBTU.A, INTL.29-12-DMA-BKWH.A, INTL.29-12-DMA-QBTU.A, INTL.29-12-DNK-BKWH.A, INTL.29-12-DNK-QBTU.A, INTL.29-12-DOM-BKWH.A, INTL.29-12-DOM-QBTU.A, INTL.29-12-DZA-BKWH.A, INTL.29-12-DZA-QBTU.A, INTL.29-12-ECU-BKWH.A, INTL.29-12-ECU-QBTU.A, INTL.29-12-EGY-BKWH.A, INTL.29-12-EGY-QBTU.A, INTL.29-12-ERI-BKWH.A, INTL.29-12-ERI-QBTU.A, INTL.29-12-ESH-BKWH.A, INTL.29-12-ESH-QBTU.A, INTL.29-12-ESP-BKWH.A, INTL.29-12-ESP-QBTU.A, INTL.29-12-EST-BKWH.A, INTL.29-12-EST-QBTU.A, INTL.29-12-ETH-BKWH.A, INTL.29-12-ETH-QBTU.A, INTL.29-12-EU27-BKWH.A, INTL.29-12-EU27-QBTU.A, INTL.29-12-EURA-BKWH.A, INTL.29-12-EURA-QBTU.A, INTL.29-12-EURO-BKWH.A, INTL.29-12-EURO-QBTU.A, INTL.29-12-FIN-BKWH.A, INTL.29-12-FIN-QBTU.A, INTL.29-12-FJI-BKWH.A, INTL.29-12-FJI-QBTU.A, INTL.29-12-FLK-BKWH.A, INTL.29-12-FLK-QBTU.A, INTL.29-12-FRA-BKWH.A, INTL.29-12-FRA-QBTU.A, INTL.29-12-FRO-BKWH.A, INTL.29-12-FRO-QBTU.A, INTL.29-12-GAB-BKWH.A, INTL.29-12-GAB-QBTU.A, INTL.29-12-GBR-BKWH.A, INTL.29-12-GBR-QBTU.A, INTL.29-12-GEO-BKWH.A, INTL.29-12-GEO-QBTU.A, INTL.29-12-GHA-BKWH.A, INTL.29-12-GHA-QBTU.A, INTL.29-12-GIB-BKWH.A, INTL.29-12-GIB-QBTU.A, INTL.29-12-GIN-BKWH.A, INTL.29-12-GIN-QBTU.A, INTL.29-12-GLP-BKWH.A, INTL.29-12-GLP-QBTU.A, INTL.29-12-GMB-BKWH.A, INTL.29-12-GMB-QBTU.A, INTL.29-12-GNB-BKWH.A, INTL.29-12-GNB-QBTU.A, INTL.29-12-GNQ-BKWH.A, INTL.29-12-GNQ-QBTU.A, INTL.29-12-GRC-BKWH.A, INTL.29-12-GRC-QBTU.A, INTL.29-12-GRD-BKWH.A, INTL.29-12-GRD-QBTU.A, INTL.29-12-GRL-BKWH.A, INTL.29-12-GRL-QBTU.A, INTL.29-12-GTM-BKWH.A, INTL.29-12-GTM-QBTU.A, INTL.29-12-GUF-BKWH.A, INTL.29-12-GUF-QBTU.A, INTL.29-12-GUM-BKWH.A, INTL.29-12-GUM-QBTU.A, INTL.29-12-GUY-BKWH.A, INTL.29-12-GUY-QBTU.A, INTL.29-12-HITZ-BKWH.A, INTL.29-12-HITZ-QBTU.A, INTL.29-12-HKG-BKWH.A, INTL.29-12-HKG-QBTU.A, INTL.29-12-HND-BKWH.A, INTL.29-12-HND-QBTU.A, INTL.29-12-HRV-BKWH.A, INTL.29-12-HRV-QBTU.A, INTL.29-12-HTI-BKWH.A, INTL.29-12-HTI-QBTU.A, INTL.29-12-HUN-BKWH.A, INTL.29-12-HUN-QBTU.A, INTL.29-12-IDN-BKWH.A, INTL.29-12-IDN-QBTU.A, INTL.29-12-IEAA-BKWH.A, INTL.29-12-IEAA-QBTU.A, INTL.29-12-IND-BKWH.A, INTL.29-12-IND-QBTU.A, INTL.29-12-IRL-BKWH.A, INTL.29-12-IRL-QBTU.A, INTL.29-12-IRN-BKWH.A, INTL.29-12-IRN-QBTU.A, INTL.29-12-IRQ-BKWH.A, INTL.29-12-IRQ-QBTU.A, INTL.29-12-ISL-BKWH.A, INTL.29-12-ISL-QBTU.A, INTL.29-12-ISR-BKWH.A, INTL.29-12-ISR-QBTU.A, INTL.29-12-ITA-BKWH.A, INTL.29-12-ITA-QBTU.A, INTL.29-12-JAM-BKWH.A, INTL.29-12-JAM-QBTU.A, INTL.29-12-JOR-BKWH.A, INTL.29-12-JOR-QBTU.A, INTL.29-12-JPN-BKWH.A, INTL.29-12-JPN-QBTU.A, INTL.29-12-KAZ-BKWH.A, INTL.29-12-KAZ-QBTU.A, INTL.29-12-KEN-BKWH.A, INTL.29-12-KEN-QBTU.A, INTL.29-12-KGZ-BKWH.A, INTL.29-12-KGZ-QBTU.A, INTL.29-12-KHM-BKWH.A, INTL.29-12-KHM-QBTU.A, INTL.29-12-KIR-BKWH.A, INTL.29-12-KIR-QBTU.A, INTL.29-12-KNA-BKWH.A, INTL.29-12-KNA-QBTU.A, INTL.29-12-KOR-BKWH.A, INTL.29-12-KOR-QBTU.A, INTL.29-12-KWT-BKWH.A, INTL.29-12-KWT-QBTU.A, INTL.29-12-LAO-BKWH.A, INTL.29-12-LAO-QBTU.A, INTL.29-12-LBN-BKWH.A, INTL.29-12-LBN-QBTU.A, INTL.29-12-LBR-BKWH.A, INTL.29-12-LBR-QBTU.A, INTL.29-12-LBY-BKWH.A, INTL.29-12-LBY-QBTU.A, INTL.29-12-LCA-BKWH.A, INTL.29-12-LCA-QBTU.A, INTL.29-12-LKA-BKWH.A, INTL.29-12-LKA-QBTU.A, INTL.29-12-LSO-BKWH.A, INTL.29-12-LSO-QBTU.A, INTL.29-12-LTU-BKWH.A, INTL.29-12-LTU-QBTU.A, INTL.29-12-LUX-BKWH.A, INTL.29-12-LUX-QBTU.A, INTL.29-12-LVA-BKWH.A, INTL.29-12-LVA-QBTU.A, INTL.29-12-MAC-BKWH.A, INTL.29-12-MAC-QBTU.A, INTL.29-12-MAR-BKWH.A, INTL.29-12-MAR-QBTU.A, INTL.29-12-MDA-BKWH.A, INTL.29-12-MDA-QBTU.A, INTL.29-12-MDG-BKWH.A, INTL.29-12-MDG-QBTU.A, INTL.29-12-MDV-BKWH.A, INTL.29-12-MDV-QBTU.A, INTL.29-12-MEX-BKWH.A, INTL.29-12-MEX-QBTU.A, INTL.29-12-MIDE-BKWH.A, INTL.29-12-MIDE-QBTU.A, INTL.29-12-MKD-BKWH.A, INTL.29-12-MKD-QBTU.A, INTL.29-12-MLI-BKWH.A, INTL.29-12-MLI-QBTU.A, INTL.29-12-MLT-BKWH.A, INTL.29-12-MLT-QBTU.A, INTL.29-12-MMR-BKWH.A, INTL.29-12-MMR-QBTU.A, INTL.29-12-MNE-BKWH.A, INTL.29-12-MNE-QBTU.A, INTL.29-12-MNG-BKWH.A, INTL.29-12-MNG-QBTU.A, INTL.29-12-MOZ-BKWH.A, INTL.29-12-MOZ-QBTU.A, INTL.29-12-MRT-BKWH.A, INTL.29-12-MRT-QBTU.A, INTL.29-12-MSR-BKWH.A, INTL.29-12-MSR-QBTU.A, INTL.29-12-MTQ-BKWH.A, INTL.29-12-MTQ-QBTU.A, INTL.29-12-MUS-BKWH.A, INTL.29-12-MUS-QBTU.A, INTL.29-12-MWI-BKWH.A, INTL.29-12-MWI-QBTU.A, INTL.29-12-MYS-BKWH.A, INTL.29-12-MYS-QBTU.A, INTL.29-12-NAM-BKWH.A, INTL.29-12-NAM-QBTU.A, INTL.29-12-NCL-BKWH.A, INTL.29-12-NCL-QBTU.A, INTL.29-12-NER-BKWH.A, INTL.29-12-NER-QBTU.A, INTL.29-12-NGA-BKWH.A, INTL.29-12-NGA-QBTU.A, INTL.29-12-NIC-BKWH.A, INTL.29-12-NIC-QBTU.A, INTL.29-12-NIU-BKWH.A, INTL.29-12-NIU-QBTU.A, INTL.29-12-NLD-BKWH.A, INTL.29-12-NLD-QBTU.A, INTL.29-12-NLDA-BKWH.A, INTL.29-12-NLDA-QBTU.A, INTL.29-12-NOAM-BKWH.A, INTL.29-12-NOAM-QBTU.A, INTL.29-12-NOEC-BKWH.A, INTL.29-12-NOEC-QBTU.A, INTL.29-12-NOR-BKWH.A, INTL.29-12-NOR-QBTU.A, INTL.29-12-NPL-BKWH.A, INTL.29-12-NPL-QBTU.A, INTL.29-12-NRU-BKWH.A, INTL.29-12-NRU-QBTU.A, INTL.29-12-NZL-BKWH.A, INTL.29-12-NZL-QBTU.A, INTL.29-12-OEAO-BKWH.A, INTL.29-12-OEAO-QBTU.A, INTL.29-12-OECD-BKWH.A, INTL.29-12-OECD-QBTU.A, INTL.29-12-OEEU-BKWH.A, INTL.29-12-OEEU-QBTU.A, INTL.29-12-OENA-BKWH.A, INTL.29-12-OENA-QBTU.A, INTL.29-12-OMN-BKWH.A, INTL.29-12-OMN-QBTU.A, INTL.29-12-OPAF-BKWH.A, INTL.29-12-OPAF-QBTU.A, INTL.29-12-OPEC-BKWH.A, INTL.29-12-OPEC-QBTU.A, INTL.29-12-OPSA-BKWH.A, INTL.29-12-OPSA-QBTU.A, INTL.29-12-PAK-BKWH.A, INTL.29-12-PAK-QBTU.A, INTL.29-12-PAN-BKWH.A, INTL.29-12-PAN-QBTU.A, INTL.29-12-PER-BKWH.A, INTL.29-12-PER-QBTU.A, INTL.29-12-PERG-BKWH.A, INTL.29-12-PERG-QBTU.A, INTL.29-12-PHL-BKWH.A, INTL.29-12-PHL-QBTU.A, INTL.29-12-PNG-BKWH.A, INTL.29-12-PNG-QBTU.A, INTL.29-12-POL-BKWH.A, INTL.29-12-POL-QBTU.A, INTL.29-12-PRI-BKWH.A, INTL.29-12-PRI-QBTU.A, INTL.29-12-PRK-BKWH.A, INTL.29-12-PRK-QBTU.A, INTL.29-12-PRT-BKWH.A, INTL.29-12-PRT-QBTU.A, INTL.29-12-PRY-BKWH.A, INTL.29-12-PRY-QBTU.A, INTL.29-12-PSE-BKWH.A, INTL.29-12-PSE-QBTU.A, INTL.29-12-PYF-BKWH.A, INTL.29-12-PYF-QBTU.A, INTL.29-12-QAT-BKWH.A, INTL.29-12-QAT-QBTU.A, INTL.29-12-REU-BKWH.A, INTL.29-12-REU-QBTU.A, INTL.29-12-ROU-BKWH.A, INTL.29-12-ROU-QBTU.A, INTL.29-12-RUS-BKWH.A, INTL.29-12-RUS-QBTU.A, INTL.29-12-RWA-BKWH.A, INTL.29-12-RWA-QBTU.A, INTL.29-12-SAU-BKWH.A, INTL.29-12-SAU-QBTU.A, INTL.29-12-SCG-BKWH.A, INTL.29-12-SCG-QBTU.A, INTL.29-12-SDN-BKWH.A, INTL.29-12-SDN-QBTU.A, INTL.29-12-SEN-BKWH.A, INTL.29-12-SEN-QBTU.A, INTL.29-12-SGP-BKWH.A, INTL.29-12-SGP-QBTU.A, INTL.29-12-SHN-BKWH.A, INTL.29-12-SHN-QBTU.A, INTL.29-12-SLB-BKWH.A, INTL.29-12-SLB-QBTU.A, INTL.29-12-SLE-BKWH.A, INTL.29-12-SLE-QBTU.A, INTL.29-12-SLV-BKWH.A, INTL.29-12-SLV-QBTU.A, INTL.29-12-SOM-BKWH.A, INTL.29-12-SOM-QBTU.A, INTL.29-12-SPM-BKWH.A, INTL.29-12-SPM-QBTU.A, INTL.29-12-SRB-BKWH.A, INTL.29-12-SRB-QBTU.A, INTL.29-12-SSD-BKWH.A, INTL.29-12-SSD-QBTU.A, INTL.29-12-STP-BKWH.A, INTL.29-12-STP-QBTU.A, INTL.29-12-SUN-BKWH.A, INTL.29-12-SUN-QBTU.A, INTL.29-12-SUR-BKWH.A, INTL.29-12-SUR-QBTU.A, INTL.29-12-SVK-BKWH.A, INTL.29-12-SVK-QBTU.A, INTL.29-12-SVN-BKWH.A, INTL.29-12-SVN-QBTU.A, INTL.29-12-SWE-BKWH.A, INTL.29-12-SWE-QBTU.A, INTL.29-12-SWZ-BKWH.A, INTL.29-12-SWZ-QBTU.A, INTL.29-12-SYC-BKWH.A, INTL.29-12-SYC-QBTU.A, INTL.29-12-SYR-BKWH.A, INTL.29-12-SYR-QBTU.A, INTL.29-12-TCA-BKWH.A, INTL.29-12-TCA-QBTU.A, INTL.29-12-TCD-BKWH.A, INTL.29-12-TCD-QBTU.A, INTL.29-12-TGO-BKWH.A, INTL.29-12-TGO-QBTU.A, INTL.29-12-THA-BKWH.A, INTL.29-12-THA-QBTU.A, INTL.29-12-TJK-BKWH.A, INTL.29-12-TJK-QBTU.A, INTL.29-12-TKM-BKWH.A, INTL.29-12-TKM-QBTU.A, INTL.29-12-TLS-BKWH.A, INTL.29-12-TLS-QBTU.A, INTL.29-12-TON-BKWH.A, INTL.29-12-TON-QBTU.A, INTL.29-12-TTO-BKWH.A, INTL.29-12-TTO-QBTU.A, INTL.29-12-TUN-BKWH.A, INTL.29-12-TUN-QBTU.A, INTL.29-12-TUR-BKWH.A, INTL.29-12-TUR-QBTU.A, INTL.29-12-TWN-BKWH.A, INTL.29-12-TWN-QBTU.A, INTL.29-12-TZA-BKWH.A, INTL.29-12-TZA-QBTU.A, INTL.29-12-UGA-BKWH.A, INTL.29-12-UGA-QBTU.A, INTL.29-12-UKR-BKWH.A, INTL.29-12-UKR-QBTU.A, INTL.29-12-UNK-BKWH.A, INTL.29-12-UNK-QBTU.A, INTL.29-12-URY-BKWH.A, INTL.29-12-URY-QBTU.A, INTL.29-12-USA-BKWH.A, INTL.29-12-USA-QBTU.A, INTL.29-12-USIQ-BKWH.A, INTL.29-12-USIQ-QBTU.A, INTL.29-12-UZB-BKWH.A, INTL.29-12-UZB-QBTU.A, INTL.29-12-VCT-BKWH.A, INTL.29-12-VCT-QBTU.A, INTL.29-12-VEN-BKWH.A, INTL.29-12-VEN-QBTU.A, INTL.29-12-VGB-BKWH.A, INTL.29-12-VGB-QBTU.A, INTL.29-12-VIR-BKWH.A, INTL.29-12-VIR-QBTU.A, INTL.29-12-VNM-BKWH.A, INTL.29-12-VNM-QBTU.A, INTL.29-12-VUT-BKWH.A, INTL.29-12-VUT-QBTU.A, INTL.29-12-WAK-BKWH.A, INTL.29-12-WAK-QBTU.A, INTL.29-12-WORL-BKWH.A, INTL.29-12-WORL-QBTU.A, INTL.29-12-WP11-BKWH.A, INTL.29-12-WP11-QBTU.A, INTL.29-12-WP12-BKWH.A, INTL.29-12-WP12-QBTU.A, INTL.29-12-WP13-BKWH.A, INTL.29-12-WP13-QBTU.A, INTL.29-12-WP14-BKWH.A, INTL.29-12-WP14-QBTU.A, INTL.29-12-WP15-BKWH.A, INTL.29-12-WP15-QBTU.A, INTL.29-12-WP16-BKWH.A, INTL.29-12-WP16-QBTU.A, INTL.29-12-WP17-BKWH.A, INTL.29-12-WP17-QBTU.A, INTL.29-12-WP18-BKWH.A, INTL.29-12-WP18-QBTU.A, INTL.29-12-WP19-BKWH.A, INTL.29-12-WP19-QBTU.A, INTL.29-12-WP21-BKWH.A, INTL.29-12-WP21-QBTU.A, INTL.29-12-WP22-BKWH.A, INTL.29-12-WP22-QBTU.A, INTL.29-12-WP23-BKWH.A, INTL.29-12-WP23-QBTU.A, INTL.29-12-WP24-BKWH.A, INTL.29-12-WP24-QBTU.A, INTL.29-12-WP25-BKWH.A, INTL.29-12-WP25-QBTU.A, INTL.29-12-WP26-BKWH.A, INTL.29-12-WP26-QBTU.A, INTL.29-12-WP27-BKWH.A, INTL.29-12-WP27-QBTU.A, INTL.29-12-WSM-BKWH.A, INTL.29-12-WSM-QBTU.A, INTL.29-12-YEM-BKWH.A, INTL.29-12-YEM-QBTU.A, INTL.29-12-YUG-BKWH.A, INTL.29-12-YUG-QBTU.A, INTL.29-12-ZAF-BKWH.A, INTL.29-12-ZAF-QBTU.A, INTL.29-12-ZMB-BKWH.A, INTL.29-12-ZMB-QBTU.A, INTL.29-12-ZWE-BKWH.A, INTL.29-12-ZWE-QBTU.A]\n"
     ]
    }
   ],
   "source": [
    "print(str_temp)"
   ]
  },
  {
   "cell_type": "code",
   "execution_count": 125,
   "metadata": {
    "scrolled": true
   },
   "outputs": [],
   "source": [
    "api_query_vals = str_temp.split(\", \")"
   ]
  },
  {
   "cell_type": "code",
   "execution_count": 126,
   "metadata": {},
   "outputs": [
    {
     "data": {
      "text/plain": [
       "'INTL.29-12-ABW-QBTU.A'"
      ]
     },
     "execution_count": 126,
     "metadata": {},
     "output_type": "execute_result"
    }
   ],
   "source": [
    "api_query_vals[1]"
   ]
  },
  {
   "cell_type": "markdown",
   "metadata": {},
   "source": [
    "## Import Private data to PostgreSQL"
   ]
  },
  {
   "cell_type": "code",
   "execution_count": 33,
   "metadata": {},
   "outputs": [],
   "source": [
    "import csv\n",
    "import os"
   ]
  },
  {
   "cell_type": "code",
   "execution_count": 41,
   "metadata": {},
   "outputs": [
    {
     "name": "stdout",
     "output_type": "stream",
     "text": [
      "········\n",
      "connected\n"
     ]
    }
   ],
   "source": [
    "upass = getpass.getpass()\n",
    "conn = psycopg2.connect(database=\"renewable_energy_generation\", user=\"admin\", password=upass, host=\"localhost\", port=\"5432\")\n",
    "print(\"connected\")\n",
    "cur = conn.cursor()"
   ]
  },
  {
   "cell_type": "code",
   "execution_count": 42,
   "metadata": {},
   "outputs": [],
   "source": [
    "query = '''\n",
    "            CREATE TABLE private_investment (\n",
    "                region varchar,\n",
    "                country varchar,\n",
    "                income_group varchar,\n",
    "                ida_status varchar,\n",
    "                fin_closing_year varchar,\n",
    "                fin_closing_month varchar,\n",
    "                project_name varchar,\n",
    "                related_names varchar,\n",
    "                type_of_ppi varchar,\n",
    "                subtype_of_ppi varchar,\n",
    "                project_status varchar,\n",
    "                primary_sector varchar,\n",
    "                secondary_sector varchar,\n",
    "                subsector varchar,\n",
    "                segment varchar,\n",
    "                location varchar,\n",
    "                contract_period varchar,\n",
    "                termination_year varchar,\n",
    "                publicly_traded varchar,\n",
    "                stock_exchange varchar,\n",
    "                multiple_systems varchar,\n",
    "                number_of_systems varchar,\n",
    "                captive_facility varchar,\n",
    "                share_percent varchar,\n",
    "                govt_granting_contract varchar,\n",
    "                type_of_govt_support varchar,\n",
    "                investment_year varchar,\n",
    "                percent_private varchar,\n",
    "                gov_payment_commitments varchar,\n",
    "                physical_assets varchar,\n",
    "                total_investment varchar,\n",
    "                cpi_adjusted_investment varchar,\n",
    "                govt_cash_assist varchar,\n",
    "                date_status_updated varchar,\n",
    "                capacity_type varchar,\n",
    "                capacity varchar,\n",
    "                capacity_year varchar,\n",
    "                technology varchar,\n",
    "                contract_history varchar,\n",
    "                related_projects varchar,\n",
    "                bid_criteria varchar,\n",
    "                award_method varchar,\n",
    "                number_of_bids varchar,\n",
    "                number_renewal_bids varchar,\n",
    "                sponsors varchar,\n",
    "                multi_lateral_support varchar,\n",
    "                revenue_source varchar,\n",
    "                renewal_bid_criteria varchar,\n",
    "                renewal_award_method varchar,\n",
    "                development_stage varchar,\n",
    "                commissioning_date varchar,\n",
    "                project_grid varchar,\n",
    "                carbon_credits varchar,\n",
    "                funding_year varchar,\n",
    "                private_funding varchar,\n",
    "                public_funding varchar,\n",
    "                govt_funding varchar,\n",
    "                bank_local_funding varchar,\n",
    "                donor_funding varchar,\n",
    "                debt_equity_grant_ratio varchar\n",
    "            );\n",
    "            '''\n",
    "cur.execute(query)\n",
    "conn.commit()"
   ]
  },
  {
   "cell_type": "code",
   "execution_count": 35,
   "metadata": {},
   "outputs": [],
   "source": [
    "def ConvertCSV(InFilePath):\n",
    "    with open(str(InFilePath), mode=\"rU\") as infile:\n",
    "        reader = csv.reader(infile, dialect=\"excel\")\n",
    "        with open(str(InFilePath) + '_pipe.txt', mode=\"w\") as outfile:\n",
    "            writer = csv.writer(outfile, delimiter='|')\n",
    "            writer.writerows(reader)\n",
    "    return outfile"
   ]
  },
  {
   "cell_type": "code",
   "execution_count": 36,
   "metadata": {},
   "outputs": [
    {
     "name": "stderr",
     "output_type": "stream",
     "text": [
      "//anaconda3/lib/python3.7/site-packages/ipykernel_launcher.py:2: DeprecationWarning: 'U' mode is deprecated\n",
      "  \n"
     ]
    },
    {
     "data": {
      "text/plain": [
       "<_io.TextIOWrapper name='../data/All_Data_1990-2012.csv_pipe.txt' mode='w' encoding='UTF-8'>"
      ]
     },
     "execution_count": 36,
     "metadata": {},
     "output_type": "execute_result"
    }
   ],
   "source": [
    "ConvertCSV('../data/All_Data_1990-2012.csv')"
   ]
  },
  {
   "cell_type": "code",
   "execution_count": 43,
   "metadata": {},
   "outputs": [],
   "source": [
    "with open('../data/All_Data_1990-2012.csv_pipe.txt', 'r') as f:\n",
    "    next(f) # Skip the header row.\n",
    "    cur.copy_from(f, 'private_investment', sep='|')\n",
    "conn.commit()"
   ]
  },
  {
   "cell_type": "code",
   "execution_count": 40,
   "metadata": {},
   "outputs": [],
   "source": [
    "conn.close()"
   ]
  },
  {
   "cell_type": "code",
   "execution_count": null,
   "metadata": {},
   "outputs": [],
   "source": []
  }
 ],
 "metadata": {
  "kernelspec": {
   "display_name": "Python 3",
   "language": "python",
   "name": "python3"
  },
  "language_info": {
   "codemirror_mode": {
    "name": "ipython",
    "version": 3
   },
   "file_extension": ".py",
   "mimetype": "text/x-python",
   "name": "python",
   "nbconvert_exporter": "python",
   "pygments_lexer": "ipython3",
   "version": "3.7.3"
  }
 },
 "nbformat": 4,
 "nbformat_minor": 2
}
